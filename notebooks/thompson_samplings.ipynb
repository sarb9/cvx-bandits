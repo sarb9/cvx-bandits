{
 "cells": [
  {
   "cell_type": "code",
   "execution_count": 1,
   "metadata": {},
   "outputs": [],
   "source": [
    "import numpy as np\n",
    "import matplotlib.pyplot as plt\n",
    "import seaborn as sns\n",
    "\n",
    "sns.set_theme(style=\"ticks\", context=\"paper\", font_scale=1)\n",
    "np.random.seed(0)"
   ]
  },
  {
   "cell_type": "code",
   "execution_count": 110,
   "metadata": {},
   "outputs": [
    {
     "data": {
      "text/plain": [
       "Text(0.5, 1.0, 'True function')"
      ]
     },
     "execution_count": 110,
     "metadata": {},
     "output_type": "execute_result"
    },
    {
     "data": {
      "image/png": "[encoded data removed]",
      "text/plain": [
       "<Figure size 640x480 with 1 Axes>"
      ]
     },
     "metadata": {},
     "output_type": "display_data"
    }
   ],
   "source": [
    "from utils import quadratic\n",
    "from functools import partial\n",
    "from scipy.stats import truncnorm\n",
    "\n",
    "interval = [-1, 1]\n",
    "precision = 1000\n",
    "quadratic = partial(quadratic, m=0.5, a=1, b=1)\n",
    "x = np.linspace(interval[0], interval[1], precision)\n",
    "y = quadratic(x)\n",
    "B = 5\n",
    "\n",
    "n_data = 30\n",
    "noise_sigma = 1 / 40\n",
    "\n",
    "\n",
    "def create_dataset(n_data, noise_sigma, func=quadratic):\n",
    "    x_data = np.random.uniform(interval[0] / 4, interval[1] / 4, n_data)\n",
    "    y_mean = quadratic(x_data)\n",
    "    lower, upper = (0 - y_mean) / noise_sigma, (B - y_mean) / noise_sigma\n",
    "    noise = []\n",
    "    for i in range(n_data):\n",
    "        noise.append(truncnorm.rvs(lower[i], upper[i], loc=0, scale=noise_sigma))\n",
    "\n",
    "    noise = np.array(noise).flatten()\n",
    "    y_data = y_mean + noise\n",
    "    assert np.all(y_data >= 0) and np.all(y_data <= B)\n",
    "    return x_data, y_data\n",
    "\n",
    "\n",
    "x_data, y_data = create_dataset(n_data, noise_sigma)\n",
    "\n",
    "\n",
    "plt.plot(x, y, label=\"True function\", color=\"black\")\n",
    "plt.scatter(x_data, y_data, label=\"Data\", color=\"black\")\n",
    "plt.legend()\n",
    "plt.title(\"True function\")"
   ]
  },
  {
   "cell_type": "code",
   "execution_count": 124,
   "metadata": {},
   "outputs": [
    {
     "name": "stderr",
     "output_type": "stream",
     "text": [
      "/var/folders/2y/8rqh7kk566b1nf_453g9hx3w0000gn/T/ipykernel_53764/3778564604.py:6: RuntimeWarning: invalid value encountered in divide\n",
      "  prior_mu = prior_mu / np.sum(prior_mu) * B_mu\n"
     ]
    }
   ],
   "source": [
    "# Prior parameters\n",
    "n_basis = 100\n",
    "prior_mu = np.random.uniform(0, 1, n_basis)\n",
    "prior_mu = np.zeros(n_basis)\n",
    "B_mu = np.random.uniform(0, 1) * B\n",
    "prior_mu = prior_mu / np.sum(prior_mu) * B_mu\n",
    "prior_sigma = np.eye(n_basis) * 1.0"
   ]
  },
  {
   "cell_type": "code",
   "execution_count": 103,
   "metadata": {},
   "outputs": [],
   "source": [
    "# First sampling algorithm:\n",
    "\n",
    "\n",
    "def sample_1(\n",
    "    prior_mu, prior_sigma, noise_sigma, x_data, y_data, burn_in=500, num_samples=5\n",
    "):\n",
    "    len_features = len(prior_mu)\n",
    "    base = np.linspace(interval[0], interval[1], len_features)\n",
    "    # X = np.array([np.abs(x - base) for x in x_data])  # Each row is a feature vector\n",
    "    # inv_prior_sigma = np.linalg.inv(prior_sigma)\n",
    "    # Phi = inv_prior_sigma + (X.T @ X) / noise_sigma**2\n",
    "    # cov = np.linalg.inv(Phi)\n",
    "    # mean = cov @ (inv_prior_sigma @ prior_mu + (Phi.T @ y_data) / (noise_sigma**2))\n",
    "\n",
    "    Phi = np.array([np.abs(x - base) for x in x_data])\n",
    "    Sigma_inv = np.linalg.inv(prior_sigma)\n",
    "    post_cov_inv = Sigma_inv + (Phi.T @ Phi) / (noise_sigma**2)\n",
    "    cov = np.linalg.inv(post_cov_inv)\n",
    "    mean = cov @ (Sigma_inv @ prior_mu + (Phi.T @ y_data) / (noise_sigma**2))\n",
    "\n",
    "    d = len_features\n",
    "    init = np.copy(mean)  # set the initial point\n",
    "    init[init <= 0] = 1e-3\n",
    "    if np.sum(init) > B:\n",
    "        init = init * (B / np.sum(init))\n",
    "\n",
    "    samples = []\n",
    "    total_iters = burn_in + num_samples\n",
    "    current_param = np.copy(init)\n",
    "    for it in range(total_iters):\n",
    "\n",
    "        # Sample from the conditional distribution at coordinate i\n",
    "        i = np.random.randint(d)\n",
    "        m_cond, cov_cond = None, None\n",
    "        other_idx = [j for j in range(d) if j != i]\n",
    "        Sigma_ii = cov[i, i]\n",
    "        Sigma_i_other = cov[i, other_idx]\n",
    "        Sigma_other_other = cov[np.ix_(other_idx, other_idx)]\n",
    "        mean_i = mean[i]\n",
    "        mean_other = mean[other_idx]\n",
    "        inv_Sigma_other_other = np.linalg.inv(Sigma_other_other)\n",
    "        m_cond = mean_i + Sigma_i_other @ inv_Sigma_other_other @ (\n",
    "            current_param[other_idx] - mean_other\n",
    "        )\n",
    "        cov_cond = Sigma_ii - Sigma_i_other @ inv_Sigma_other_other @ Sigma_i_other.T\n",
    "\n",
    "        sd_cond = np.sqrt(cov_cond)\n",
    "        sum_others = np.sum(np.delete(current_param, i))\n",
    "        lower = 0.0\n",
    "        upper = B - sum_others\n",
    "        if upper < lower:  # safeguard\n",
    "            upper = lower\n",
    "        a, b = (lower - m_cond) / sd_cond, (upper - m_cond) / sd_cond\n",
    "        current_param[i] = truncnorm.rvs(a, b, loc=m_cond, scale=sd_cond)\n",
    "\n",
    "        if it >= burn_in:\n",
    "            samples.append(np.copy(current_param))\n",
    "\n",
    "    return np.array(samples)"
   ]
  },
  {
   "cell_type": "code",
   "execution_count": null,
   "metadata": {},
   "outputs": [
    {
     "ename": "ValueError",
     "evalue": "Domain error in arguments. The `scale` parameter must be positive for all distributions, and many distributions have restrictions on shape parameters. Please see the `scipy.stats.truncnorm` documentation for details.",
     "output_type": "error",
     "traceback": [
      "\u001b[0;31m---------------------------------------------------------------------------\u001b[0m",
      "\u001b[0;31mValueError\u001b[0m                                Traceback (most recent call last)",
      "Cell \u001b[0;32mIn[126], line 6\u001b[0m\n\u001b[1;32m      2\u001b[0m noise_sigma \u001b[38;5;241m=\u001b[39m \u001b[38;5;241m1\u001b[39m \u001b[38;5;241m/\u001b[39m \u001b[38;5;241m40\u001b[39m\n\u001b[1;32m      4\u001b[0m x_data, y_data \u001b[38;5;241m=\u001b[39m create_dataset(n_data, noise_sigma)\n\u001b[0;32m----> 6\u001b[0m samples \u001b[38;5;241m=\u001b[39m \u001b[43msample_1\u001b[49m\u001b[43m(\u001b[49m\n\u001b[1;32m      7\u001b[0m \u001b[43m    \u001b[49m\u001b[43mprior_mu\u001b[49m\u001b[43m,\u001b[49m\u001b[43m \u001b[49m\u001b[43mprior_sigma\u001b[49m\u001b[43m,\u001b[49m\u001b[43m \u001b[49m\u001b[43mnoise_sigma\u001b[49m\u001b[43m,\u001b[49m\u001b[43m \u001b[49m\u001b[43mx_data\u001b[49m\u001b[43m,\u001b[49m\u001b[43m \u001b[49m\u001b[43my_data\u001b[49m\u001b[43m,\u001b[49m\u001b[43m \u001b[49m\u001b[43mburn_in\u001b[49m\u001b[38;5;241;43m=\u001b[39;49m\u001b[38;5;241;43m500\u001b[39;49m\u001b[43m,\u001b[49m\u001b[43m \u001b[49m\u001b[43mnum_samples\u001b[49m\u001b[38;5;241;43m=\u001b[39;49m\u001b[38;5;241;43m5\u001b[39;49m\n\u001b[1;32m      8\u001b[0m \u001b[43m)\u001b[49m\n\u001b[1;32m     11\u001b[0m \u001b[38;5;28;01mdef\u001b[39;00m\u001b[38;5;250m \u001b[39m\u001b[38;5;21mphi\u001b[39m(x, t):\n\u001b[1;32m     12\u001b[0m \u001b[38;5;250m    \u001b[39m\u001b[38;5;124;03m\"\"\"Basis function: |x - t|.\"\"\"\u001b[39;00m\n",
      "Cell \u001b[0;32mIn[103], line 54\u001b[0m, in \u001b[0;36msample_1\u001b[0;34m(prior_mu, prior_sigma, noise_sigma, x_data, y_data, burn_in, num_samples)\u001b[0m\n\u001b[1;32m     52\u001b[0m     upper \u001b[38;5;241m=\u001b[39m lower\n\u001b[1;32m     53\u001b[0m a, b \u001b[38;5;241m=\u001b[39m (lower \u001b[38;5;241m-\u001b[39m m_cond) \u001b[38;5;241m/\u001b[39m sd_cond, (upper \u001b[38;5;241m-\u001b[39m m_cond) \u001b[38;5;241m/\u001b[39m sd_cond\n\u001b[0;32m---> 54\u001b[0m current_param[i] \u001b[38;5;241m=\u001b[39m \u001b[43mtruncnorm\u001b[49m\u001b[38;5;241;43m.\u001b[39;49m\u001b[43mrvs\u001b[49m\u001b[43m(\u001b[49m\u001b[43ma\u001b[49m\u001b[43m,\u001b[49m\u001b[43m \u001b[49m\u001b[43mb\u001b[49m\u001b[43m,\u001b[49m\u001b[43m \u001b[49m\u001b[43mloc\u001b[49m\u001b[38;5;241;43m=\u001b[39;49m\u001b[43mm_cond\u001b[49m\u001b[43m,\u001b[49m\u001b[43m \u001b[49m\u001b[43mscale\u001b[49m\u001b[38;5;241;43m=\u001b[39;49m\u001b[43msd_cond\u001b[49m\u001b[43m)\u001b[49m\n\u001b[1;32m     56\u001b[0m \u001b[38;5;28;01mif\u001b[39;00m it \u001b[38;5;241m>\u001b[39m\u001b[38;5;241m=\u001b[39m burn_in:\n\u001b[1;32m     57\u001b[0m     samples\u001b[38;5;241m.\u001b[39mappend(np\u001b[38;5;241m.\u001b[39mcopy(current_param))\n",
      "File \u001b[0;32m~/Library/Caches/pypoetry/virtualenvs/cvx-exp-_hTkzrHn-py3.13/lib/python3.13/site-packages/scipy/stats/_distn_infrastructure.py:1099\u001b[0m, in \u001b[0;36mrv_generic.rvs\u001b[0;34m(self, *args, **kwds)\u001b[0m\n\u001b[1;32m   1093\u001b[0m \u001b[38;5;28;01mif\u001b[39;00m \u001b[38;5;129;01mnot\u001b[39;00m np\u001b[38;5;241m.\u001b[39mall(cond):\n\u001b[1;32m   1094\u001b[0m     message \u001b[38;5;241m=\u001b[39m (\u001b[38;5;124m\"\u001b[39m\u001b[38;5;124mDomain error in arguments. The `scale` parameter must \u001b[39m\u001b[38;5;124m\"\u001b[39m\n\u001b[1;32m   1095\u001b[0m                \u001b[38;5;124m\"\u001b[39m\u001b[38;5;124mbe positive for all distributions, and many \u001b[39m\u001b[38;5;124m\"\u001b[39m\n\u001b[1;32m   1096\u001b[0m                \u001b[38;5;124m\"\u001b[39m\u001b[38;5;124mdistributions have restrictions on shape parameters. \u001b[39m\u001b[38;5;124m\"\u001b[39m\n\u001b[1;32m   1097\u001b[0m                \u001b[38;5;124mf\u001b[39m\u001b[38;5;124m\"\u001b[39m\u001b[38;5;124mPlease see the `scipy.stats.\u001b[39m\u001b[38;5;132;01m{\u001b[39;00m\u001b[38;5;28mself\u001b[39m\u001b[38;5;241m.\u001b[39mname\u001b[38;5;132;01m}\u001b[39;00m\u001b[38;5;124m` \u001b[39m\u001b[38;5;124m\"\u001b[39m\n\u001b[1;32m   1098\u001b[0m                \u001b[38;5;124m\"\u001b[39m\u001b[38;5;124mdocumentation for details.\u001b[39m\u001b[38;5;124m\"\u001b[39m)\n\u001b[0;32m-> 1099\u001b[0m     \u001b[38;5;28;01mraise\u001b[39;00m \u001b[38;5;167;01mValueError\u001b[39;00m(message)\n\u001b[1;32m   1101\u001b[0m \u001b[38;5;28;01mif\u001b[39;00m np\u001b[38;5;241m.\u001b[39mall(scale \u001b[38;5;241m==\u001b[39m \u001b[38;5;241m0\u001b[39m):\n\u001b[1;32m   1102\u001b[0m     \u001b[38;5;28;01mreturn\u001b[39;00m loc\u001b[38;5;241m*\u001b[39mones(size, \u001b[38;5;124m'\u001b[39m\u001b[38;5;124md\u001b[39m\u001b[38;5;124m'\u001b[39m)\n",
      "\u001b[0;31mValueError\u001b[0m: Domain error in arguments. The `scale` parameter must be positive for all distributions, and many distributions have restrictions on shape parameters. Please see the `scipy.stats.truncnorm` documentation for details."
     ]
    }
   ],
   "source": [
    "n_data = 0\n",
    "noise_sigma = 1 / 40\n",
    "\n",
    "x_data, y_data = create_dataset(n_data, noise_sigma)\n",
    "\n",
    "samples = sample_1(\n",
    "    prior_mu, prior_sigma, noise_sigma, x_data, y_data, burn_in=500, num_samples=5\n",
    ")\n",
    "\n",
    "\n",
    "def phi(x, t):\n",
    "    \"\"\"Basis function: |x - t|.\"\"\"\n",
    "    return np.abs(x - t)\n",
    "\n",
    "\n",
    "def f(x, w, interval):\n",
    "    ts = np.linspace(interval[0], interval[1], len(w))\n",
    "    x = np.atleast_1d(x)\n",
    "    return np.sum(np.array([phi(x, t) for t in ts]).T * w, axis=1)\n",
    "\n",
    "\n",
    "base = np.linspace(interval[0], interval[1], n_basis)\n",
    "for sample in samples:\n",
    "    ys = f(base, sample, interval)\n",
    "    kwargs = {\n",
    "        # \"alpha\": np.exp(0.01 * (i - 100)),\n",
    "        \"linestyle\": \":\",\n",
    "        \"color\": \"black\",\n",
    "    }\n",
    "    kwargs = kwargs | {\"label\": \"TS-Sampled Functions\"} if i == 0 else kwargs\n",
    "    plt.plot(base, ys, **kwargs)\n",
    "\n",
    "# plot the true function\n",
    "plt.plot(x, y, label=\"True function\", color=\"black\")\n",
    "plt.scatter(x_data, y_data, label=\"Data\", color=\"black\")\n",
    "plt.legend()"
   ]
  },
  {
   "cell_type": "code",
   "execution_count": null,
   "metadata": {},
   "outputs": [],
   "source": []
  }
 ],
 "metadata": {
  "kernelspec": {
   "display_name": "cvx-exp-_hTkzrHn-py3.13",
   "language": "python",
   "name": "python3"
  },
  "language_info": {
   "codemirror_mode": {
    "name": "ipython",
    "version": 3
   },
   "file_extension": ".py",
   "mimetype": "text/x-python",
   "name": "python",
   "nbconvert_exporter": "python",
   "pygments_lexer": "ipython3",
   "version": "3.13.1"
  }
 },
 "nbformat": 4,
 "nbformat_minor": 2
}
